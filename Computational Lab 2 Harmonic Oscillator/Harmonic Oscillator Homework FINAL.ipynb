{
 "cells": [
  {
   "cell_type": "markdown",
   "metadata": {},
   "source": [
    "# Computational Exercise 1: A Vary Great, Very Harmonic, Wavefunction\n",
    "We will apply the Variational Method to the Harmonic Oscillator.  In particular, we will optimize\n",
    "the trial wavefunction given by \n",
    "\\begin{equation}\n",
    "\\Phi(x) = {\\rm exp}\\left( -\\alpha x^2 \\right),\n",
    "\\end{equation}\n",
    "where $\\alpha$ is an adjustable parameter that will be variationally optimized.  In particular, the goal\n",
    "will be to minimize the energy functional given by\n",
    "\\begin{equation}\n",
    "E[\\Phi(x)] = \\frac{\\int_{-\\infty}^{\\infty} \\Phi^* (x) \\: \\hat{H} \\: \\Phi(x) dx }{\\int_{-\\infty}^{\\infty} \\Phi^* (x) \\: \\Phi(x) dx }\n",
    "\\end{equation}\n",
    "by modulating the trial wavefunction through the adjustable parameter $\\alpha$.\n",
    "\n",
    "The Hamiltonian operator for Harmonic Oscillator is given by \n",
    "\\begin{equation}\n",
    "\\hat{H} = -\\frac{\\hbar^2}{2m} \\frac{d^2}{dx^2} + \\frac{1}{2} k \\: x^2.\n",
    "\\end{equation}\n",
    "We will use a system of natural units where $\\hbar = 1$, the mass of the particle $m = 1$, and the force constant of\n",
    "the potential $k = 1$.\n",
    "\n",
    "### Questions\n",
    "1. What is the optimal value of $E[\\Phi(x)]$ in natural units?  How does this value compare to the true ground state energy of the Harmonic Oscillator?\n",
    "2. What is the optimal value of $\\alpha$ in natural units?  How does $\\Phi(x)$ with this value of $\\alpha$ compare to the true ground state wavefunction?\n",
    "3. What is the kinetic energy expectation value of the optimized trial wavefunction in natural units?\n",
    "4. What is the potential energy expectation value of the optimized trial wavefunction in natural units?\n",
    "\n",
    "### (Hopefully) Helpful Hints\n",
    "You can represent your trial wavefunction numerically on the computer by creating an array of x-values, evaluating\n",
    "the formula for your trial wavefunction at each of those x-values, and then storing each of those function values in another array.  The following lines of code will do this using $numpy$ arrays and the $numpy.exp$ function. \n"
   ]
  },
  {
   "cell_type": "code",
   "execution_count": 24,
   "metadata": {},
   "outputs": [
    {
     "data": {
      "image/png": "[encoded data removed]",
      "text/plain": [
       "<Figure size 432x288 with 1 Axes>"
      ]
     },
     "metadata": {
      "needs_background": "light"
     },
     "output_type": "display_data"
    }
   ],
   "source": [
    "import numpy as np\n",
    "from matplotlib import pyplot as plt \n",
    "### create an array of 1000 x-values between x=-20 and x=20 atomic units\n",
    "x_array = np.linspace(-20,20,1000)\n",
    "### pick a trial value of alpha... might as well be 1 atomic unit!\n",
    "alpha = 0.6\n",
    "### evaluate your trial wavefunction at each of the x-values stored in the array called 'x_array'\n",
    "Phi = np.exp(-alpha * x_array**2)\n",
    "Vx = 1/2. * x_array **2\n",
    "\n",
    "plt.plot(x_array, Phi, 'pink', label='Trial')\n",
    "plt.plot(x_array, Vx, 'purple', label='potential')\n",
    "plt.xlim(-5,5)\n",
    "plt.ylim(0,10)\n",
    "plt.legend()\n",
    "plt.show()"
   ]
  },
  {
   "cell_type": "markdown",
   "metadata": {},
   "source": [
    "To evaluate the kinetic energy of a trial wavefunction, we will need to take the second derivative of the trial wavefunction.\n",
    "One way to take derivatives on a computer is to use the method of finite differences.  In particular, the forward finite difference\n",
    "approximation to the first derivative of your trial wavefunction $\\Phi(x)$ at the point $x_0$ can be written symbolically as\n",
    "\\begin{equation}\n",
    "\\frac{d \\Phi(x_0)}{dx} = \\frac{\\Phi(x_0 + dx) - \\Phi(x_0)}{dx}\n",
    "\\end{equation}\n",
    "where in our code, $dx$ will be determined by the range of x-values and the number of x-values used in defining\n",
    "$x_{array}$.\n",
    "\n",
    "Create a function called $dfdx$ that takes an array of x-values and an array of function values evaluated at each x-value and\n",
    "returns the first derivative of the function values with respect to x.  Then, show that calling this function in sequence can be used to compute the second derivative of an array of function values.  \n",
    "\n",
    "A skeleton of the function looks like this:"
   ]
  },
  {
   "cell_type": "code",
   "execution_count": 25,
   "metadata": {},
   "outputs": [],
   "source": [
    "def dfdx(fx, x):\n",
    "    ### loop through values of fx and x and use forward finite-differences \n",
    "    ### to compute the d/dx of fx at each point and store in an array called 'fxp'\n",
    "    ### make sure to poperly handle\n",
    "    ### the last point where f(x_0 + dx) is not stored\n",
    "    ### create a numpy array called fxp that has the same length\n",
    "    ### and data type as the array of function values you are dif//ferentiating\n",
    "    fxp = np.zeros_like(fx)\n",
    "    \n",
    "    for i in range(0,len(x)-1):\n",
    "\n",
    "        rise = fx[i+1]-fx[i]\n",
    "        run = x[i+1]-x[i]\n",
    "        slope = rise/run\n",
    "        fxp[i] = slope\n",
    "\n",
    "\n",
    "    \n",
    "    ''' your forward finite difference code goes here! \n",
    "    \n",
    "    \n",
    "    '''\n",
    "    \n",
    "    ### once you have computed all fxp values, return the array!\n",
    "    return fxp\n",
    "\n",
    "def TPhi(fx, x):\n",
    "    \n",
    "    #This takes the first derivative of fx and stores it as fxp\n",
    "    fxp = dfdx(fx, x)\n",
    "    #this takes the first derivative of fxp and stores it as fxpp\n",
    "    fxpp = dfdx(fxp, x)\n",
    "    #now return second derivative of fx multiplied by -1/2\n",
    "    return -1/2 * fxpp\n",
    "\n",
    "def VPhi(fx, x):\n",
    "    \n",
    "    return 1/2 * x**2 * fx\n",
    "\n",
    "def HPhi(fx, x):\n",
    "    return TPhi(fx, x) + VPhi(fx, x)\n",
    "\n",
    "#Function will take our trail wave function and our gird of x values\n",
    "#and return the energy expectation value using rectange rule for integrals!\n",
    "def E_of_Phi(fx, x):\n",
    "    #get the dx value!\n",
    "    dx = x[1]-x[0]\n",
    "    #get my numerator function\n",
    "    hp = HPhi(fx, x)\n",
    "    phi_star = np.conj(fx)\n",
    "    num_func = phi_star * hp\n",
    "    ## get the denominator function\n",
    "    den_func = phi_star * fx\n",
    "    \n",
    "    \n",
    "    \n",
    "    ###define numerator sum variable\n",
    "    num_sum = 0.\n",
    "    ###define denominator sum variable\n",
    "    den_sum = 0.\n",
    "    \n",
    "    ##perform the loop to compute the rectangle-rule approximation to the intergrals \n",
    "    for i in range(1, len(x)):\n",
    "        ## add the area of the numerator rectangle to num_sum\n",
    "        num_sum = num_sum + num_func[i] * dx\n",
    "        #add the area of the denominator rectangle to den_sum \n",
    "        den_sum = den_sum + den_func[i] * dx\n",
    "        \n",
    "    return num_sum/den_sum"
   ]
  },
  {
   "cell_type": "code",
   "execution_count": 26,
   "metadata": {},
   "outputs": [
    {
     "name": "stdout",
     "output_type": "stream",
     "text": [
      "0.5078286821948195\n"
     ]
    }
   ],
   "source": [
    "E_Trial = E_of_Phi(Phi, x_array)\n",
    "print(E_Trial)"
   ]
  },
  {
   "cell_type": "code",
   "execution_count": 27,
   "metadata": {},
   "outputs": [
    {
     "data": {
      "image/png": "[encoded data removed]",
      "text/plain": [
       "<Figure size 432x288 with 1 Axes>"
      ]
     },
     "metadata": {
      "needs_background": "light"
     },
     "output_type": "display_data"
    }
   ],
   "source": [
    "hp = HPhi(Phi, x_array)\n",
    "#plotting the numerator of our energy expectation value \n",
    "plt.plot(x_array, np.conj(Phi)*hp)\n",
    "plt.show()\n"
   ]
  },
  {
   "cell_type": "markdown",
   "metadata": {},
   "source": [
    "And the calling sequence for $dfdx$ to compute the second derivative of a trial wavefunction we defined previously will look like this:"
   ]
  },
  {
   "cell_type": "code",
   "execution_count": 28,
   "metadata": {},
   "outputs": [
    {
     "data": {
      "image/png": "[encoded data removed]",
      "text/plain": [
       "<Figure size 432x288 with 1 Axes>"
      ]
     },
     "metadata": {
      "needs_background": "light"
     },
     "output_type": "display_data"
    }
   ],
   "source": [
    "\n",
    "### Call dfdx on Phi to get the first derivative of Phi\n",
    "Phi_p = dfdx(Phi, x_array)\n",
    "\n",
    "\n",
    "Phi_wa = -2 * alpha * x_array * Phi\n",
    "\n",
    "plt.plot(x_array, Phi_p, 'red', label= 'dfdx result')\n",
    "plt.plot(x_array, Phi_wa, 'b--', label= 'Wolfram Alpha Result')\n",
    "plt.legend()\n",
    "plt.show()\n",
    "\n",
    "### Call dfdx on Phi_p to get the second derivative of Phi\n",
    "Phi_pp = dfdx(Phi_p, x_array)\n",
    "\n"
   ]
  },
  {
   "cell_type": "markdown",
   "metadata": {},
   "source": [
    "### Questions\n",
    "1. What is the optimal value of $E[\\Phi(x)]$ in natural units?  How does this value compare to the true ground state energy of the Harmonic Oscillator?\n",
    "\n",
    "Answer: \n",
    "The optimatal value of $E[\\Phi(x)]$ in natural units is 0.507 as shown in In [5]. The true ground state energy of the Harmonic Oscillator is 0.5. Therefore the optimal value found is higher than the true ground state, this is due to the use of the variational method. \n",
    "\n",
    "2. What is the optimal value of $\\alpha$ in natural units?  How does $\\Phi(x)$ with this value of $\\alpha$ compare to the true ground state wavefunction?\n",
    "\n",
    "Answer:\n",
    "The optimal value of $\\alpha$  is 0.6, as shown in In[3]. $\\alpha$ as it gives the closest to the ground state energy of 0.5. Therefore $\\Phi(x)$ will increase compared to the true ground state wavefunction. \n",
    "\n",
    "3. What is the kinetic energy expectation value of the optimized trial wavefunction in natural units?\n",
    "\n",
    "Answer: \n",
    "The kinetic energy expectation value of the optimized trial wavefunction in natural units is 0.29949534. All calculations are shown below. \n",
    "\n",
    "4. What is the potential energy expectation value of the optimized trial wavefunction in natural units?\n",
    "\n",
    "\n",
    "Answer: \n",
    "The potential energy expectation value of the optimized trial wavefunction in natural units is 0.2083333. All calculations are shown below. "
   ]
  },
  {
   "cell_type": "code",
   "execution_count": 50,
   "metadata": {},
   "outputs": [],
   "source": [
    "def T_of_Phi(fx,x):\n",
    "    dx = x[1]-x[0]\n",
    "    hp = TPhi(fx, x)\n",
    "    phi_star = np.conj(fx)\n",
    "    num_func = phi_star * hp\n",
    "    den_func = phi_star * fx\n",
    "\n",
    "    num_sum = 0\n",
    "    den_sum = 0\n",
    "    \n",
    "\n",
    "    for i in range(1, len(x)):\n",
    "        num_sum = num_sum + num_func[i] * dx\n",
    "        den_sum = den_sum + den_func[i] * dx\n",
    "        \n",
    "    return num_sum/den_sum\n",
    "    \n",
    "\n",
    "    \n",
    "def V_of_Phi(fx,x):\n",
    "    dx = x[1]-x[0]\n",
    "    hp = VPhi(fx, x)\n",
    "    phi_star = np.conj(fx)\n",
    "    num_func = phi_star * hp\n",
    "    den_func = phi_star * fx\n",
    "    \n",
    "\n",
    "    num_sum = 0\n",
    "    den_sum = 0\n",
    "    \n",
    "\n",
    "    for i in range(1, len(x)):\n",
    "\n",
    "        num_sum = num_sum + num_func[i] * dx\n",
    "        den_sum = den_sum + den_func[i] * dx\n",
    "        \n",
    "    return num_sum/den_sum"
   ]
  },
  {
   "cell_type": "code",
   "execution_count": 51,
   "metadata": {},
   "outputs": [
    {
     "name": "stdout",
     "output_type": "stream",
     "text": [
      "Kinetic Energy Expectation Value 0.299495348861486\n",
      "Potential Energy Expectation Value 0.2083333333333332\n"
     ]
    }
   ],
   "source": [
    "print('Kinetic Energy Expectation Value',T_of_Phi(Phi, x_array))\n",
    "\n",
    "\n",
    "print('Potential Energy Expectation Value',V_of_Phi(Phi, x_array))\n"
   ]
  }
 ],
 "metadata": {
  "kernelspec": {
   "display_name": "Python 3",
   "language": "python",
   "name": "python3"
  },
  "language_info": {
   "codemirror_mode": {
    "name": "ipython",
    "version": 3
   },
   "file_extension": ".py",
   "mimetype": "text/x-python",
   "name": "python",
   "nbconvert_exporter": "python",
   "pygments_lexer": "ipython3",
   "version": "3.7.4"
  }
 },
 "nbformat": 4,
 "nbformat_minor": 2
}
