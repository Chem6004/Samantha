{
 "cells": [
  {
   "cell_type": "markdown",
   "metadata": {},
   "source": [
    "# Simulated Annealing calculation of minimum HF bondlength in $FHF^{-}$\n",
    "\n",
    "As described in the companion document to this notebook, this exercise involves using the BBK integrator to perform a Langevin dynamics simulation of the HF molecule\n",
    "\n",
    "We will start by importing a few useful libraries - these are packages of python code that provide capabilities to do numerical calculations, plot data, etc. We will then use spline fitting to compute the energy of $FHF^{-}$ as a function of the FH bondlength (holding the total length of the anion constant at the equilibrium length of 2.31 Angstroms or 4.37 in atomic units). \n",
    "\n",
    "Our model for the anion is rather simplistic (and not actually accurate): denoting a covalent bond as a - and a hydrogen bond as ... we model the anion as a linear structure that is either F-H...F or F...H-F, whichever is lower in energy. We'll use the energies from last time for covalent bonds (i.e. we assume the F-H covalent bond in $FHF^{-}$ behaves just like the bond in HF) and scale that energy landscape to represent the hydrogen-bond energy."
   ]
  },
  {
   "cell_type": "code",
   "execution_count": 15,
   "metadata": {},
   "outputs": [
    {
     "data": {
      "image/png": "[encoded data removed]",
      "text/plain": [
       "<Figure size 432x288 with 1 Axes>"
      ]
     },
     "metadata": {
      "needs_background": "light"
     },
     "output_type": "display_data"
    },
    {
     "data": {
      "image/png": "[encoded data removed]",
      "text/plain": [
       "<Figure size 432x288 with 1 Axes>"
      ]
     },
     "metadata": {
      "needs_background": "light"
     },
     "output_type": "display_data"
    }
   ],
   "source": [
    "import numpy as np\n",
    "from matplotlib import pyplot as plt\n",
    "from scipy.interpolate import InterpolatedUnivariateSpline\n",
    "\n",
    "molecules = []\n",
    "r_array = [0.5, 0.55,0.6,0.65,0.7,0.75,0.8,0.85,0.9,0.95,1.0,1.1,1.2,1.3,1.4,1.5,1.6,1.7,1.8,1.9,2.0,2.1] \n",
    "# energy for HF covalent bond with F at position 0 and H at corresponding position in r_array\n",
    "E_FH_array = [-99.65145319155353, -99.8994262443721,-100.06621001317194,-100.17756325854646,-100.25063259195414,-100.2970313588523,-100.32474168482375,-100.33931605978479,-100.34465565789081,-100.34352787324143,-100.33791544225228,-100.31857920174716,-100.29403975969775,-100.26820624042988,-100.24311492569184,-100.21980547092805,-100.19879112534593,-100.18029259214076,-100.16434868570335,-100.15087255990257,-100.13968771534014,-100.13055798203477]\n",
    "\n",
    "# convert r_array to atomic units\n",
    "r_array_au = np.array(r_array) * 1.89\n",
    "# create a cubic spline for the energies vs HF bond length in atomic units here!\n",
    "E_FH_spline = InterpolatedUnivariateSpline(r_array_au, E_FH_array, k=3)\n",
    "\n",
    "# form a much finer grid to evaluate spline object at\n",
    "r_fine = np.linspace(0.3*1.89,2.3*1.89,200)\n",
    "\n",
    "# compute the interpolated/extrapolated values for Energy on this grid\n",
    "E_FH_fine = E_FH_spline(r_fine)\n",
    "\n",
    "# now use spline to calculate energies of HF covalent bond with H at positions in r_au_array \n",
    "# and F at 2.31 Angstroms, i.e. 4.37 atomic units\n",
    "\n",
    "E_HF_fine = E_FH_spline(4.37-r_fine)\n",
    "\n",
    "# now model H-bonds: the H bond is about one third as strong as the covalent bond and it is about one quarter longer\n",
    "# c.f. Crystals 2016, 6, 3; doi:10.3390/cryst6010003 \n",
    "# (perhaps Crystals is not the best quality journal, but this paper is solid enough as essentially a review)\n",
    "\n",
    "E_HF_hbond = E_FH_spline((4.37-r_fine)*1.25)/3\n",
    "E_FH_hbond = E_FH_spline(r_fine*1.25)/3\n",
    "\n",
    "# calculate energies of anion: minimum of FH covalent bond + HF hydrogen bond or \n",
    "# HF covalent bond and FH hydrogen bond\n",
    "# also add a \"restraint\" to match the experimental value of 1.14 Angstroms or 2.15 atomic units\n",
    "# and increase the energy barrier between the two local minima to keep things interesting\n",
    "\n",
    "E_array = np.minimum(E_FH_fine+E_HF_hbond,E_HF_fine+E_FH_hbond)+2*(r_fine-2.15)**2+0.10/(0.1+abs(r_fine-1.15*1.89))\n",
    "\n",
    "# now create a cubic spline for energies vs. H position (in atomic units) in atomic units\n",
    "\n",
    "E_spline = InterpolatedUnivariateSpline(r_fine, E_array, k=3)\n",
    "\n",
    "# compute the interpolated/extrapolated values for Energy on this grid\n",
    "E_fine = E_spline(r_fine)\n",
    "\n",
    "# plot energy landscape for FHF-\n",
    "\n",
    "plt.plot(r_fine, E_fine, 'red')\n",
    "plt.ylim(-140,-120)\n",
    "plt.show()\n",
    "\n",
    "plt.plot(r_fine, E_fine, 'red')\n",
    "plt.xlim(1.5,2.75)\n",
    "plt.ylim(-133.5,-132.75)\n",
    "plt.show()\n",
    "\n",
    "\n"
   ]
  },
  {
   "cell_type": "markdown",
   "metadata": {},
   "source": [
    "We now need to calculate derivatives and some sort of reduced mass (I am not sure if I am doing the latter correctly). We also will calculate the minimum energy and minimum energy position of the hydrogen atom for comparisonn with our simulated annealing results."
   ]
  },
  {
   "cell_type": "code",
   "execution_count": 16,
   "metadata": {},
   "outputs": [
    {
     "name": "stdout",
     "output_type": "stream",
     "text": [
      " Equilibrium proton position is  1.9346381909547736 atomic units\n",
      " Req is  1.0236180904522612 Angstroms\n",
      " Energy mimimum is  -133.34517330059134  atomic units\n",
      "Reduced mass is  1661.138321877837 atomic units\n"
     ]
    }
   ],
   "source": [
    "# minimum energy and energy minimizing H position\n",
    "minE = min(E_fine)\n",
    "\n",
    "Req_idx = np.argmin(E_fine)\n",
    "r_eq = r_fine[Req_idx]\n",
    "\n",
    "### print equilibrium H positions\n",
    "print(\" Equilibrium proton position is \",r_eq, \"atomic units\")\n",
    "print(\" Req is \",r_eq/1.89, \"Angstroms\")\n",
    "print(\" Energy mimimum is \",minE,\" atomic units\")\n",
    "\n",
    "# first and second derivatives\n",
    "\n",
    "fE = E_spline.derivative()\n",
    "cE = fE.derivative()\n",
    "\n",
    "\n",
    "### mass of hydrogen in atomic units\n",
    "mH = 1836.\n",
    "### mass of fluorine in atomic units\n",
    "mF = 34883.\n",
    "\n",
    "# compute the reduced mass\n",
    "mu = mH * mF/(2*mH + mF)\n",
    "### Print the reduced mass!\n",
    "print(\"Reduced mass is \",mu, \"atomic units\")"
   ]
  },
  {
   "cell_type": "markdown",
   "metadata": {},
   "source": [
    "Many minimization procedures begin with a good guess as to the lowest energy state. For our purposes, a good guess as to the lowest potential energy is that neither H-F distance would be much less than the atomic radius of F + the atomic radius of H. This sum = 0.95 Angstroms or 1.8 atomic units. We can also set r_init to specific values to see how simulated annealing works with particular starting conditions. Our lowest energy state would have 0 initial velocity, so let's start with 0 initial velocity as well. "
   ]
  },
  {
   "cell_type": "code",
   "execution_count": 17,
   "metadata": {},
   "outputs": [
    {
     "name": "stdout",
     "output_type": "stream",
     "text": [
      "Initial separation is  2.4 atomic units\n"
     ]
    }
   ],
   "source": [
    "r_init = 2.4 # np.random.uniform(1.8,4.37-1.8)\n",
    "v_init = 0\n",
    "\n",
    "### print initial position\n",
    "print(\"Initial separation is \",r_init, \"atomic units\")\n",
    "\n",
    "### establish time-step for integration to be 0.02 atomic units... this is about 0.01 femtoseconds\n",
    "### you may want to see what happens (e.g. to mean \"instantaneous temperature\" when you change this number)\n",
    "dt = 0.02\n",
    "\n",
    "### get force on particle \n",
    "F_init = -1*fE(r_init)"
   ]
  },
  {
   "cell_type": "markdown",
   "metadata": {},
   "source": [
    "Next we need to define our BBK function so we can call it to update our position and velocity. Copy the BBK function you implemented for your previous computational exercise here."
   ]
  },
  {
   "cell_type": "code",
   "execution_count": 18,
   "metadata": {},
   "outputs": [],
   "source": [
    "def BBK(r_curr, v_curr, rp_curr, gamma_val, temperature_val, mu, f_interp, dt):\n",
    "    ### get acceleration at current time: (force + current perturbation on force)/mass - drag\n",
    "    a_curr = (-1*f_interp(r_curr) + rp_curr)/mu - gamma_val*v_curr\n",
    "    \n",
    "    ### update velocity for half time step, for such a small time step can approximate dv = adt\n",
    "    \n",
    "    # v_halftime = v_curr + 0.5*a_curr*dt\n",
    "    \n",
    "   \n",
    "    ### use current acceleration and velocity to update position\n",
    "    r_fut = r_curr + v_curr * dt + 0.5 * a_curr * dt**2\n",
    "    \n",
    "    ### calculate the rp_future\n",
    "    \n",
    "    rp_fut = np.sqrt(2*temperature_val*gamma_val*mu/dt)*np.random.normal(0,1)\n",
    "    \n",
    "    ### use rp_fut to get future acceleration a_fut (a_tilde at the future time in the assignment), \n",
    "    ### note that we cannot take future drag into account as we have not calculated our future velocity yet\n",
    "    a_fut = (-1*f_interp(r_fut) + rp_fut)/mu\n",
    "    \n",
    "    ### use current and future acceleration to get future velocity v_fut\n",
    "    ### note that we have to \"correct\" our formula relative to the formula for velocity Verlet\n",
    "    ### as we have not included our future drag in our future acceleration\n",
    "    \n",
    "    # v_fut = (v_halftime + 0.5*a_fut*dt)/(1+0.5*gamma_val*dt)\n",
    "    v_fut = (v_curr + 0.5*(a_curr + a_fut)*dt)/(1+0.5*gamma_val*dt)\n",
    "    \n",
    "    # v_fut = v_curr + 0.5 * (a_curr + a_fut) * dt\n",
    "    \n",
    "    result = [r_fut, v_fut, rp_fut]\n",
    "    \n",
    "    return result"
   ]
  },
  {
   "cell_type": "markdown",
   "metadata": {},
   "source": [
    "Now that we have implemented the BBK algorithm as a python function, let's use it for our simulated annealing calculation. First, let's define some parameters for the calculation: you will explore how changing the temperature parameters as well as gamma effects your simulated annealing calculations."
   ]
  },
  {
   "cell_type": "code",
   "execution_count": 19,
   "metadata": {},
   "outputs": [
    {
     "name": "stdout",
     "output_type": "stream",
     "text": [
      "The final value for the position of H is  2.399419845864545  atomic units\n",
      "The final value for the (potential) energy is  -133.29991561850875  atomic units\n"
     ]
    },
    {
     "data": {
      "image/png": "[encoded data removed]",
      "text/plain": [
       "<Figure size 432x288 with 1 Axes>"
      ]
     },
     "metadata": {
      "needs_background": "light"
     },
     "output_type": "display_data"
    },
    {
     "data": {
      "image/png": "[encoded data removed]",
      "text/plain": [
       "<Figure size 432x288 with 1 Axes>"
      ]
     },
     "metadata": {
      "needs_background": "light"
     },
     "output_type": "display_data"
    },
    {
     "data": {
      "image/png": "[encoded data removed]",
      "text/plain": [
       "<Figure size 432x288 with 1 Axes>"
      ]
     },
     "metadata": {
      "needs_background": "light"
     },
     "output_type": "display_data"
    },
    {
     "data": {
      "image/png": "[encoded data removed]",
      "text/plain": [
       "<Figure size 432x288 with 1 Axes>"
      ]
     },
     "metadata": {
      "needs_background": "light"
     },
     "output_type": "display_data"
    }
   ],
   "source": [
    "# set up parameters for simulated annealing run\n",
    "\n",
    "# drag term parameter for Langevin dynamics\n",
    "gamma = 0.02; # note the relatively high gamma (compared with last time)\n",
    "\n",
    "# temperature parameters\n",
    "# remember that 295 K (approximately room temperature) is 0.00094 in atomic units\n",
    "temp_init = 0 \n",
    "temp_hot = 0 #0.25 #0.01 * (295/0.0094)\n",
    "temp_final = 0 #0.25 * (295/0.0094)\n",
    "\n",
    "### how many updates do you want to perform?\n",
    "half_N_updates = 200000\n",
    "N_updates = 2*half_N_updates\n",
    "\n",
    "# create an array for temperatures (temp_array): start out at temp_init, at N_updates/2, temperature should be temp_hot\n",
    "# then temperature at end should be temp_final\n",
    "\n",
    "temp_array_heating = np.linspace(temp_init,temp_hot,half_N_updates)\n",
    "temp_array_cooling = np.linspace(temp_hot,temp_final,half_N_updates)\n",
    "temp_array = np.concatenate((temp_array_heating, temp_array_cooling),axis=None)\n",
    "\n",
    "### use parameters set above to get initial perturbation of force for Langevin dynamics\n",
    "rp_init = np.sqrt(2*temp_init*gamma*mu/dt)*np.random.normal(0,1)\n",
    "\n",
    "\n",
    "### Now use r_init and v_init and run velocity verlet update N_updates times, plot results\n",
    "### these arrays will store the time, the position vs time, and the velocity vs time\n",
    "### as weell as energy and \"instantaneous temperature\" (Eq. 3.18 in Cramer, note that we have 1 dof)\n",
    "r_vs_t = np.zeros(N_updates)\n",
    "v_vs_t = np.zeros(N_updates)\n",
    "e_vs_t = np.zeros(N_updates)\n",
    "temp_vs_t = np.zeros(N_updates)\n",
    "t_array = np.zeros(N_updates)\n",
    "\n",
    "### first entry is the intial position and velocity\n",
    "r_vs_t[0] = r_init\n",
    "v_vs_t[0] = v_init\n",
    "e_vs_t[0] = (E_spline(r_init)-minE)+0.5*mu*v_init**2 \n",
    "\n",
    "### first BBK update\n",
    "### note that the result of a BBK call is an array whose elements are position, velocity and a perturbation term\n",
    "result_array = BBK(r_init, v_init, rp_init, gamma, temp_array[0], mu, fE, dt)\n",
    "\n",
    "### do the update N_update-1 more times\n",
    "for i in range(1,N_updates):\n",
    "    tmp = BBK(result_array[0], result_array[1], result_array[2], gamma, temp_array[i], mu, fE, dt)\n",
    "    result_array = tmp\n",
    "    t_array[i] = dt*i\n",
    "    r_vs_t[i] = result_array[0]\n",
    "    v_vs_t[i] = result_array[1]\n",
    "    e_vs_t[i] = (E_spline(result_array[0])-minE)+0.5*mu*result_array[1]**2\n",
    "\n",
    "print(\"The final value for the position of H is \", result_array[0], \" atomic units\")\n",
    "''' figure out to print the % difference between the final value for the position of H'''\n",
    "''' and the equilibrium value calculated above'''\n",
    "\n",
    "print(\"The final value for the (potential) energy is \", E_spline(result_array[0]), \" atomic units\")\n",
    "''' figure out to print the difference between the final value for potential energy'''\n",
    "''' and the minimum energy value calculated above'''\n",
    "\n",
    "    \n",
    "### Plot the trajectory of bondlength vs time: \n",
    "# does the bondlength seem to converge to the equilibrium bondlength calculated above?\n",
    "plt.plot(t_array, r_vs_t, 'blue')\n",
    "plt.ylim(2.5,1.8)\n",
    "plt.show()\n",
    "    \n",
    "### Plot the temparature as a function of time\n",
    "plt.plot(t_array, temp_array,'red')\n",
    "plt.show()\n",
    "\n",
    "### Plot the velocity as a function of time\n",
    "plt.plot(t_array, v_vs_t,'green')\n",
    "plt.show()\n",
    "\n",
    "### plot the total energy vs. time:\n",
    "# does the average energy seem to converge to the minimum energy (i.e. 0 given how we set up this plot)?\n",
    "plt.plot(t_array,e_vs_t,'magenta')\n",
    "plt.show()\n",
    "    "
   ]
  },
  {
   "cell_type": "markdown",
   "metadata": {},
   "source": [
    "Simulated Annealing Questions\n",
    "\n",
    "    ANSWERS TO ANNEALING QUESTIONS:\n",
    "    \n",
    "Our model system has two local minima, one at approximately 1.9 atomic units and another at approximately 2.4 atomic units. \n",
    "\n",
    "Set the r_init to 1.8 atomic units (i.e. somewhat near the minimum of the energy landscape for the system) and run the simulation a few times. \n",
    "    Does the final value for the position of H always, usually, sometimes or rarely converge to the “equilibrium” value? \n",
    "    \n",
    "    ANSWER: The final value for the position of H sometimes converges to the equilbrium value. \n",
    "  \n",
    " Does the final value for the position of H ever converge to the other, non-global local minimum in the energy landscape?\n",
    "    \n",
    "    ANSWER: No the final value never converges to the other non-global local minimum in the energy landscape. \n",
    "    \n",
    "   How well, in general, does the final value for the potential energy match the minimum of the energy landscape?\n",
    "\n",
    "    ANSWER: The final value for the potential energy does match the minium of the energy in the landscape. \n",
    "\n",
    "Set the r_init to 2.4 atomic units (i.e. very near the other, non-global local minimum in the energy landscape) and run the simulation a few times. \n",
    "    Does the final value for the position of H always, usually, sometimes or rarely converge to the “equilibrium” value?\n",
    " \n",
    "     ANSWER: The final value for the position of H almost always converges to the equlibrium value.\n",
    "     \n",
    "  Does the final value for the position of H ever converge to the other, non-global local minimum in the energy landscape (i.e. does the position of H ever end up more or less where it started, even after “exploring” positions with lower energy?)?\n",
    "\n",
    "     ANSWER: Yes the final value does converges to the other non-global local minimum in the energy landscape. \n",
    "        \n",
    "  How well, in general, does the final value for the potential energy match the minimum of the energy landscape?\n",
    "\n",
    "     ANSWER: The final value for the potential energy does match the minium of the energy in the landscape.\n",
    "    \n",
    "Note that the value of γ used in this week’s exercise is higher than the value of γ used in the previous computational exercise (which itself was on the high side for Langevin dynamics). \n",
    "\n",
    "What effect, if any, does lowering the value of γ have? In particular, when you start with r_init being 2.4 atomic units, do you often see the position of H explore values near the global energy minimum in the landscape and then return to the local minimum occurring when the position of H is near 2.4 atomic units? \n",
    "\n",
    "     ANSWER: By lowering the value of gamma a slight change is observed in the position of H values in relation to the global minimum \"equilbirum\" values. By adjusting the gamma the accuracy is slightly changed. \n",
    "     \n",
    "What does lowering the value of γ mean, conceptually speaking? Do your observations of what happens when you lower the value of γ make sense in terms of what γ means as a “drag” parameter?\n",
    "     \n",
    "     ANSWER: Gamma represents the value of \"drag\" in the system. When gamma is decreased, we are decreasing the drag force in the system. Therefore meaning the weak intermolecualr forces with the atoms or molecules are reduced. \n",
    "\n",
    "Convert the initial temperature and hot temperature to kelvin (using the conversion factor 295 K0.00094 atomic units): what would actually happen if you heated an aqueous solution of HF to the hottest temperature used in our simulation?\n",
    "\n",
    "     ANSWER: When the temperature is converted an output of -5 atomic units was recieved for the final value of the  position of the proton. Therefore meaning that if we heated an aqueous solution of HF to the hottest temperature, it would be harder for us to calculate an accurate positon of the proton in relation to the minimum energy value. \n",
    "     \n",
    "Change the value of γ back to 0.02 and change the initial temperature and hot temperature to 0 (essentially using the drag term in the Langevin equation to minimize energy). How do your answers to the questions in parts 1 & 2 above change? In particular, if you start with r_init = 2.4 atomic units, does the position of H ever converge to the global minimum? You may also want to try using a hotter temperatures than you did with your first \n",
    "\n",
    "    ANSWER: After adjusting gamma and changing initial temperature and hot temperature, answers to questions 1 and 2 do not change. Although the final value for the position of H does change, it hardly ever converges to the golbal minium equillbrium value. "
   ]
  },
  {
   "cell_type": "code",
   "execution_count": null,
   "metadata": {},
   "outputs": [],
   "source": []
  }
 ],
 "metadata": {
  "kernelspec": {
   "display_name": "Python 3",
   "language": "python",
   "name": "python3"
  },
  "language_info": {
   "codemirror_mode": {
    "name": "ipython",
    "version": 3
   },
   "file_extension": ".py",
   "mimetype": "text/x-python",
   "name": "python",
   "nbconvert_exporter": "python",
   "pygments_lexer": "ipython3",
   "version": "3.7.4"
  }
 },
 "nbformat": 4,
 "nbformat_minor": 2
}
