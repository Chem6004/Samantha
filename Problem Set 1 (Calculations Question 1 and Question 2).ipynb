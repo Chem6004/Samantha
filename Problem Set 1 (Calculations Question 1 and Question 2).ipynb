{
 "cells": [
  {
   "cell_type": "code",
   "execution_count": 10,
   "metadata": {},
   "outputs": [
    {
     "name": "stdout",
     "output_type": "stream",
     "text": [
      "E1 is 6.024658523923367e-20 J\n"
     ]
    }
   ],
   "source": [
    "##Question 1: Calculations\n",
    "\n",
    "#Compute E1 in SI Units \n",
    "\n",
    "import numpy as np\n",
    "hbar = 1.054571e-34\n",
    "m = 9.109383e-31\n",
    "L = 1e-9\n",
    "pi = np.pi\n",
    "\n",
    "E1 = pi**2 * hbar**2 / (2 * m * L**2)\n",
    "print(\"E1 is\", E1, \"J\")\n",
    "\n",
    "##Full Answer provided on print out"
   ]
  },
  {
   "cell_type": "code",
   "execution_count": 9,
   "metadata": {},
   "outputs": [
    {
     "name": "stdout",
     "output_type": "stream",
     "text": [
      "[[ 4.93480220e+00 -5.99903913e-32  8.99855870e-32]\n",
      " [-5.99903913e-32  1.97392088e+01 -1.79971174e-31]\n",
      " [ 8.99855870e-32 -1.79971174e-31  4.44132198e+01]]\n",
      "Ground state energy is 4.934802200544679 Joules\n"
     ]
    }
   ],
   "source": [
    "### Question 2: Calculations\n",
    "\n",
    "#Defining coordinate system\n",
    "x = np.linspace(0,L,100)\n",
    "\n",
    "V = -2 * (x-0.5e-9)**3 + 0.5e-9\n",
    "\n",
    "L = 1e-9\n",
    "\n",
    "def H_ij(i,j): \n",
    "    \n",
    "    a = 2 * np.sin (j* np.pi)* np.sin (i * np.pi)\n",
    "    b = (np.pi**2 * j**2) / 2 \n",
    "    \n",
    "    if i==j:\n",
    "        ham_int = a + b\n",
    "\n",
    "    else: \n",
    "        ham_int = a\n",
    "        \n",
    "    return ham_int \n",
    "\n",
    "H_mat = np.zeros((3,3))\n",
    "for i in range(1,4):\n",
    "    for j in range(1,4):\n",
    "        H_mat[i-1][j-1] = H_ij(i, j)\n",
    "print(H_mat)\n",
    "\n",
    "c = np.zeros(3)\n",
    "c[0] = 1\n",
    "c[1] = 0\n",
    "c[2] = 0\n",
    "Hc = np.dot(H_mat,c)\n",
    "E = np.dot(np.transpose(c),Hc)\n",
    "E_opt, c_opt = np.linalg.eig(H_mat) \n",
    "\n",
    "print (\"Ground state energy is\", np.min(E_opt), \"Joules\" )\n",
    "\n",
    "\n",
    "\n",
    "\n",
    "#print(E_opt[0]) \n",
    "#print(c_opt[0])\n",
    "  "
   ]
  },
  {
   "cell_type": "code",
   "execution_count": null,
   "metadata": {},
   "outputs": [],
   "source": []
  }
 ],
 "metadata": {
  "kernelspec": {
   "display_name": "Python 3",
   "language": "python",
   "name": "python3"
  },
  "language_info": {
   "codemirror_mode": {
    "name": "ipython",
    "version": 3
   },
   "file_extension": ".py",
   "mimetype": "text/x-python",
   "name": "python",
   "nbconvert_exporter": "python",
   "pygments_lexer": "ipython3",
   "version": "3.7.4"
  }
 },
 "nbformat": 4,
 "nbformat_minor": 2
}
